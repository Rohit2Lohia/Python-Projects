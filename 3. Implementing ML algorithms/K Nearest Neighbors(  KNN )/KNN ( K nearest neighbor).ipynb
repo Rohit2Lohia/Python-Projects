{
 "cells": [
  {
   "cell_type": "code",
   "execution_count": 2,
   "metadata": {},
   "outputs": [],
   "source": [
    "import sklearn \n",
    "from sklearn.utils import shuffle\n",
    "from sklearn.neighbors import KNeighborsClassifier\n",
    "import pandas as pd\n",
    "import numpy as np\n",
    "from sklearn import linear_model, preprocessing"
   ]
  },
  {
   "cell_type": "code",
   "execution_count": null,
   "metadata": {},
   "outputs": [],
   "source": [
    "data = pd.read_csv(\"car.data\")\n",
    "print(data.head(n=30))"
   ]
  },
  {
   "cell_type": "code",
   "execution_count": 68,
   "metadata": {},
   "outputs": [],
   "source": [
    "# As our data is not numeric but it can be seen from the data that this non-numeric data can be assigned with some respectively \n",
    "# constants that corrosponds to some weight. So, to do that sk can help us with that\n",
    "# modifying persons data i.e 'more' converted to 3, 2->1, 4->2\n",
    "for d in range(len(data)):\n",
    "    if(data[\"persons\"][d]=='more'):\n",
    "        data[\"persons\"][d]='3'\n",
    "    elif(data[\"persons\"][d]=='2'):\n",
    "        data[\"persons\"][d]='1'\n",
    "    elif(data[\"persons\"][d]=='4'):\n",
    "        data[\"persons\"][d]='2'\n",
    "    else:\n",
    "        data[\"persons\"][d]='0'\n",
    "        \n",
    "le= preprocessing.LabelEncoder()\n",
    "buying = le.fit_transform(list(data[\"buying\"]))\n",
    "maint = le.fit_transform(list(data[\"maint\"]))\n",
    "door = le.fit_transform(list(data[\"door\"]))\n",
    "lug_boot = le.fit_transform(list(data[\"lug_boot\"]))\n",
    "safety = le.fit_transform(list(data[\"safety\"]))\n",
    "cls = le.fit_transform(list(data[\"class\"]))\n",
    "# print(buying)"
   ]
  },
  {
   "cell_type": "code",
   "execution_count": 69,
   "metadata": {},
   "outputs": [],
   "source": [
    "predict = \"class\"\n",
    "X=list(zip(buying,maint,door, persons, lug_boot, safety))\n",
    "y=list(cls)"
   ]
  },
  {
   "cell_type": "code",
   "execution_count": 70,
   "metadata": {},
   "outputs": [],
   "source": [
    "x_train, x_test, y_train, y_test = sklearn.model_selection.train_test_split(X,y, test_size=0.1)"
   ]
  },
  {
   "cell_type": "code",
   "execution_count": 83,
   "metadata": {},
   "outputs": [],
   "source": [
    "#print(x_train,y_test)\n",
    "# Preparing model\n",
    "model = KNeighborsClassifier(n_neighbors=8) \n",
    "# Normally we should take the value of n_neighbors to be odd (preferbly Prime) as it doesn't create a equal voting conditions"
   ]
  },
  {
   "cell_type": "code",
   "execution_count": 84,
   "metadata": {},
   "outputs": [
    {
     "name": "stdout",
     "output_type": "stream",
     "text": [
      "0.9364161849710982\n"
     ]
    }
   ],
   "source": [
    "model.fit(x_train, y_train)\n",
    "acc= model.score(x_test,y_test)\n",
    "print(acc)"
   ]
  },
  {
   "cell_type": "code",
   "execution_count": 88,
   "metadata": {},
   "outputs": [],
   "source": [
    "import pickle\n",
    "with open(\"cardekho.pickle\",mode=\"wb\") as f:\n",
    "    pickle.dump(model, f)"
   ]
  },
  {
   "cell_type": "code",
   "execution_count": null,
   "metadata": {},
   "outputs": [],
   "source": [
    "predicted = model.predict(x_test)\n",
    "names= [\"unacc\", \"acc\", \"good\", \"vgood\"]\n",
    "\n",
    "for x in range(len(predicted)):\n",
    "    print(\"Predicted: \", names[predicted[x]], \"Data: \", x_test[x], \"Actual: \", names[y_test[x]])\n",
    "    # Now we will we see the neighbors of each point in our testing data\n",
    "    n = model.kneighbors([x_test[x]], 8, True)\n",
    "    # 'n' will return a 2*8 matix in which\n",
    "    # First row give us the distance of each node its 8 nearest neighbors\n",
    "    # Second row give us the column no. of respective nearest neighbors\n",
    "    print(\"N: \", n)"
   ]
  },
  {
   "cell_type": "code",
   "execution_count": null,
   "metadata": {},
   "outputs": [],
   "source": []
  },
  {
   "cell_type": "code",
   "execution_count": null,
   "metadata": {},
   "outputs": [],
   "source": []
  }
 ],
 "metadata": {
  "kernelspec": {
   "display_name": "Python 3",
   "language": "python",
   "name": "python3"
  },
  "language_info": {
   "codemirror_mode": {
    "name": "ipython",
    "version": 3
   },
   "file_extension": ".py",
   "mimetype": "text/x-python",
   "name": "python",
   "nbconvert_exporter": "python",
   "pygments_lexer": "ipython3",
   "version": "3.6.5"
  }
 },
 "nbformat": 4,
 "nbformat_minor": 2
}
