{
 "cells": [
  {
   "cell_type": "code",
   "execution_count": 2,
   "metadata": {},
   "outputs": [],
   "source": [
    "# import tensorflow\n",
    "import sklearn\n",
    "import numpy as np\n",
    "import matplotlib as mp\n",
    "import pandas as pd\n",
    "from sklearn import linear_model\n",
    "from sklearn.utils import shuffle\n",
    "import pickle"
   ]
  },
  {
   "cell_type": "code",
   "execution_count": 4,
   "metadata": {},
   "outputs": [],
   "source": [
    "data = pd.read_csv(\"student-mat.csv\", sep=\";\")"
   ]
  },
  {
   "cell_type": "code",
   "execution_count": 5,
   "metadata": {},
   "outputs": [
    {
     "data": {
      "text/html": [
       "<div>\n",
       "<style scoped>\n",
       "    .dataframe tbody tr th:only-of-type {\n",
       "        vertical-align: middle;\n",
       "    }\n",
       "\n",
       "    .dataframe tbody tr th {\n",
       "        vertical-align: top;\n",
       "    }\n",
       "\n",
       "    .dataframe thead th {\n",
       "        text-align: right;\n",
       "    }\n",
       "</style>\n",
       "<table border=\"1\" class=\"dataframe\">\n",
       "  <thead>\n",
       "    <tr style=\"text-align: right;\">\n",
       "      <th></th>\n",
       "      <th>G1</th>\n",
       "      <th>G2</th>\n",
       "      <th>G3</th>\n",
       "      <th>studytime</th>\n",
       "      <th>failures</th>\n",
       "      <th>absences</th>\n",
       "    </tr>\n",
       "  </thead>\n",
       "  <tbody>\n",
       "    <tr>\n",
       "      <th>0</th>\n",
       "      <td>5</td>\n",
       "      <td>6</td>\n",
       "      <td>6</td>\n",
       "      <td>2</td>\n",
       "      <td>0</td>\n",
       "      <td>6</td>\n",
       "    </tr>\n",
       "    <tr>\n",
       "      <th>1</th>\n",
       "      <td>5</td>\n",
       "      <td>5</td>\n",
       "      <td>6</td>\n",
       "      <td>2</td>\n",
       "      <td>0</td>\n",
       "      <td>4</td>\n",
       "    </tr>\n",
       "    <tr>\n",
       "      <th>2</th>\n",
       "      <td>7</td>\n",
       "      <td>8</td>\n",
       "      <td>10</td>\n",
       "      <td>2</td>\n",
       "      <td>3</td>\n",
       "      <td>10</td>\n",
       "    </tr>\n",
       "    <tr>\n",
       "      <th>3</th>\n",
       "      <td>15</td>\n",
       "      <td>14</td>\n",
       "      <td>15</td>\n",
       "      <td>3</td>\n",
       "      <td>0</td>\n",
       "      <td>2</td>\n",
       "    </tr>\n",
       "    <tr>\n",
       "      <th>4</th>\n",
       "      <td>6</td>\n",
       "      <td>10</td>\n",
       "      <td>10</td>\n",
       "      <td>2</td>\n",
       "      <td>0</td>\n",
       "      <td>4</td>\n",
       "    </tr>\n",
       "  </tbody>\n",
       "</table>\n",
       "</div>"
      ],
      "text/plain": [
       "   G1  G2  G3  studytime  failures  absences\n",
       "0   5   6   6          2         0         6\n",
       "1   5   5   6          2         0         4\n",
       "2   7   8  10          2         3        10\n",
       "3  15  14  15          3         0         2\n",
       "4   6  10  10          2         0         4"
      ]
     },
     "execution_count": 5,
     "metadata": {},
     "output_type": "execute_result"
    }
   ],
   "source": [
    "data = data[[\"G1\", \"G2\", \"G3\", \"studytime\", \"failures\", \"absences\"]]\n",
    "data.head()"
   ]
  },
  {
   "cell_type": "code",
   "execution_count": 6,
   "metadata": {},
   "outputs": [],
   "source": [
    "predict = \"G3\"\n",
    "\n",
    "X = np.array(data.drop([predict], 1)) # Features or training data\n",
    "y = np.array(data[predict]) # Labels or output"
   ]
  },
  {
   "cell_type": "code",
   "execution_count": 15,
   "metadata": {},
   "outputs": [],
   "source": [
    "x_train, x_test, y_train, y_test = sklearn.model_selection.train_test_split(X, y, test_size = 0.1) \n",
    "# The test_size=0.1 divide the data in 90:10 ratio i.e 90% to train and 10% to test"
   ]
  },
  {
   "cell_type": "code",
   "execution_count": 16,
   "metadata": {},
   "outputs": [
    {
     "name": "stdout",
     "output_type": "stream",
     "text": [
      "0.9453832930251278\n"
     ]
    }
   ],
   "source": [
    "linear = linear_model.LinearRegression()\n",
    "linear.fit(x_train, y_train)\n",
    "acc=linear.score(x_test,y_test)\n",
    "print(acc)"
   ]
  },
  {
   "cell_type": "code",
   "execution_count": 17,
   "metadata": {},
   "outputs": [
    {
     "name": "stdout",
     "output_type": "stream",
     "text": [
      "Coeff: \n",
      " [ 0.15442566  0.98396108 -0.14688026 -0.23838749  0.03921948]\n",
      "Intercept: \n",
      " -1.6767103334016635\n"
     ]
    }
   ],
   "source": [
    "print('Coeff: \\n', linear.coef_) # Coeff for five differernt constants\n",
    "print('Intercept: \\n', linear.intercept_)"
   ]
  },
  {
   "cell_type": "code",
   "execution_count": 18,
   "metadata": {},
   "outputs": [
    {
     "name": "stdout",
     "output_type": "stream",
     "text": [
      "0 :  12.263560057012997 [14 12  1  0  3] 12\n",
      "1 :  3.6375010118957674 [6 5 2 1 0] 0\n",
      "2 :  15.651950731697385 [16 15  2  0 10] 15\n",
      "3 :  15.602733580633272 [16 15  1  0  5] 16\n",
      "4 :  17.080797796700054 [16 17  3  0  0] 17\n",
      "5 :  12.598144402833967 [11 13  2  0  2] 14\n",
      "6 :  7.680172956761107 [ 9  8  2  1 16] 7\n",
      "7 :  6.152661983314963 [8 7 2 0 0] 8\n",
      "8 :  18.21163913752555 [16 18  2  0  0] 18\n",
      "9 :  12.150806146712556 [12 12  1  0  8] 12\n",
      "10 :  15.691170214491011 [16 15  2  0 11] 15\n",
      "11 :  11.606637925682218 [10 12  1  0  2] 12\n",
      "12 :  13.730604865768713 [13 13  2  0 23] 13\n",
      "13 :  10.475796584856718 [10 11  2  0  2] 11\n",
      "14 :  9.577819871752757 [11 10  3  0  4] 10\n",
      "15 :  9.800686831203812 [12 10  2  0  2] 11\n",
      "16 :  10.554235550443972 [10 11  2  0  4] 9\n",
      "17 :  13.959398102340788 [13 14  1  0  0] 14\n",
      "18 :  14.943359180262272 [13 15  1  0  0] 15\n",
      "19 :  -0.8970366234999554 [6 0 1 0 0] 0\n",
      "20 :  6.736264508564229 [6 8 1 1 0] 8\n",
      "21 :  12.752570064968255 [12 13  2  0  2] 13\n",
      "22 :  9.415848810388201 [ 9 10  2  0  4] 10\n",
      "23 :  15.112875640857093 [16 15  3  0  0] 15\n",
      "24 :  11.927939187261503 [11 12  2  0 10] 13\n",
      "25 :  15.215443290777442 [14 15  1  0  3] 16\n",
      "26 :  -1.0439168864039763 [6 0 2 0 0] 0\n",
      "27 :  13.061421389236832 [14 13  2  0  2] 13\n",
      "28 :  7.283503324140465 [8 8 1 0 0] 11\n",
      "29 :  13.068348462961422 [14 13  3  1 12] 13\n",
      "30 :  7.837669213441293 [10  8  2  0 10] 8\n",
      "31 :  11.927939187261503 [11 12  2  0 10] 13\n",
      "32 :  17.891956998055512 [17 17  2  0 13] 17\n",
      "33 :  7.452831192625682 [ 7  8  2  0 12] 8\n",
      "34 :  14.950904579492539 [14 15  2  0  0] 15\n",
      "35 :  15.105330241626826 [15 15  2  0  0] 15\n",
      "36 :  10.551783281403752 [11 11  2  0  0] 10\n",
      "37 :  -0.9809984526733264 [7 0 1 1 0] 0\n",
      "38 :  18.753355089515672 [19 18  2  0  2] 18\n",
      "39 :  10.630222246991005 [11 11  2  0  2] 11\n"
     ]
    }
   ],
   "source": [
    "# Let's make a comparison of our model data and data that we have predicted\n",
    "predictions=linear.predict(x_test)\n",
    "for x in range(len(predictions)):\n",
    "    print(x,': ',predictions[x], x_test[x], y_test[x])"
   ]
  },
  {
   "cell_type": "code",
   "execution_count": 19,
   "metadata": {},
   "outputs": [],
   "source": [
    "# Let's save our best suited model using pickle and plot data to check comparison\n",
    "import matplotlib.pyplot as pyplot\n",
    "import pickle\n",
    "from matplotlib import style"
   ]
  },
  {
   "cell_type": "code",
   "execution_count": 20,
   "metadata": {},
   "outputs": [],
   "source": [
    "with open(\"studentmodel.pickle\",mode=\"wb\") as f:\n",
    "    pickle.dump(linear, f)"
   ]
  },
  {
   "cell_type": "code",
   "execution_count": 21,
   "metadata": {},
   "outputs": [],
   "source": [
    "# Read pickle model to check our model\n",
    "pickle_in = open(\"studentmodel.pickle\",\"rb\")\n",
    "linar=pickle.load(pickle_in)"
   ]
  },
  {
   "cell_type": "code",
   "execution_count": 22,
   "metadata": {},
   "outputs": [
    {
     "data": {
      "image/png": "[encoded data removed]",
      "text/plain": [
       "<Figure size 432x288 with 1 Axes>"
      ]
     },
     "metadata": {},
     "output_type": "display_data"
    }
   ],
   "source": [
    "#plot\n",
    "p='G1'\n",
    "style.use(\"ggplot\")\n",
    "pyplot.scatter(data[p],data[\"G3\"])\n",
    "pyplot.xlabel(p)\n",
    "pyplot.ylabel(\"-Final Grade-\")\n",
    "pyplot.show()"
   ]
  },
  {
   "cell_type": "code",
   "execution_count": null,
   "metadata": {},
   "outputs": [],
   "source": []
  }
 ],
 "metadata": {
  "kernelspec": {
   "display_name": "Python 3",
   "language": "python",
   "name": "python3"
  },
  "language_info": {
   "codemirror_mode": {
    "name": "ipython",
    "version": 3
   },
   "file_extension": ".py",
   "mimetype": "text/x-python",
   "name": "python",
   "nbconvert_exporter": "python",
   "pygments_lexer": "ipython3",
   "version": "3.6.5"
  }
 },
 "nbformat": 4,
 "nbformat_minor": 2
}
