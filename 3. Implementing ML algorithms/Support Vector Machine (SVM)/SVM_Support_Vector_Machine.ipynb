{
 "cells": [
  {
   "cell_type": "code",
   "execution_count": 13,
   "metadata": {},
   "outputs": [],
   "source": [
    "import sklearn\n",
    "from sklearn import datasets\n",
    "from sklearn import svm,metrics\n",
    "from sklearn.neighbors import KNeighborsClassifier #I have imported this to make kind of a comperison between the two  "
   ]
  },
  {
   "cell_type": "code",
   "execution_count": 12,
   "metadata": {
    "scrolled": true
   },
   "outputs": [],
   "source": [
    "# Loading the data (This time we will be working with datasets provided by sklearn by default)\n",
    "cancer = datasets.load_breast_cancer()\n",
    "# print(cancer)\n",
    "print(cancer.feature_names,\"\\n\")\n",
    "print(cancer.target_names)"
   ]
  },
  {
   "cell_type": "code",
   "execution_count": 23,
   "metadata": {},
   "outputs": [],
   "source": [
    "X=cancer.data\n",
    "y=cancer.target\n",
    "\n",
    "x_train, x_test, y_train, y_test = sklearn.model_selection.train_test_split(X,y, test_size=0.2)"
   ]
  },
  {
   "cell_type": "code",
   "execution_count": 11,
   "metadata": {},
   "outputs": [],
   "source": [
    "print(\"Features: \", x_train[:5],\"\\nLabels: \",y_train[:5])\n",
    "classes = ['malignant', 'benign'] "
   ]
  },
  {
   "cell_type": "code",
   "execution_count": 19,
   "metadata": {},
   "outputs": [
    {
     "data": {
      "text/plain": [
       "SVC(C=1.0, cache_size=200, class_weight=None, coef0=0.0,\n",
       "  decision_function_shape='ovr', degree=3, gamma='auto', kernel='rbf',\n",
       "  max_iter=-1, probability=False, random_state=None, shrinking=True,\n",
       "  tol=0.001, verbose=False)"
      ]
     },
     "execution_count": 19,
     "metadata": {},
     "output_type": "execute_result"
    }
   ],
   "source": [
    "clf = svm.SVC()\n",
    "clf.fit(x_train,y_train)"
   ]
  },
  {
   "cell_type": "code",
   "execution_count": 21,
   "metadata": {},
   "outputs": [
    {
     "name": "stdout",
     "output_type": "stream",
     "text": [
      "0.7192982456140351\n"
     ]
    }
   ],
   "source": [
    "y_pred = clf.predict(x_test) # Predic for the test data\n",
    "acc = metrics.accuracy_score(y_test, y_pred) # Check for the accuracy\n",
    "print (acc)"
   ]
  },
  {
   "cell_type": "code",
   "execution_count": 25,
   "metadata": {},
   "outputs": [
    {
     "name": "stdout",
     "output_type": "stream",
     "text": [
      "0.9824561403508771\n"
     ]
    }
   ],
   "source": [
    "# As we can see that our accuracy is preety low so according to the theory of \n",
    "# SVM we must use Kernel to make the model more accurate\n",
    "clf2 = svm.SVC(kernel=\"linear\", C=2) # Here C is the soft margin so by varying this accuracy may vary\n",
    "clf2.fit(x_train,y_train)\n",
    "y_pred2 = clf2.predict(x_test)\n",
    "acc2 = metrics.accuracy_score(y_test, y_pred2)\n",
    "print (acc2)"
   ]
  },
  {
   "cell_type": "code",
   "execution_count": 26,
   "metadata": {},
   "outputs": [
    {
     "name": "stdout",
     "output_type": "stream",
     "text": [
      "0.9473684210526315\n"
     ]
    }
   ],
   "source": [
    "# Now let's make a comparison of this model with KNN\n",
    "clf3 = KNeighborsClassifier(n_neighbors=11) # Here C is the soft margin so by varying this accuracy may vary\n",
    "clf3.fit(x_train,y_train)\n",
    "y_pred3 = clf3.predict(x_test)\n",
    "acc3 = metrics.accuracy_score(y_test, y_pred3)\n",
    "print (acc3)"
   ]
  },
  {
   "cell_type": "code",
   "execution_count": 28,
   "metadata": {},
   "outputs": [],
   "source": [
    "# Store all our three models\n",
    "import pickle\n",
    "with open(\"cancer_model.pickle\", mode=\"wb\") as f:\n",
    "    pickle.dump([clf,clf2,clf3],f)"
   ]
  }
 ],
 "metadata": {
  "kernelspec": {
   "display_name": "Python 3",
   "language": "python",
   "name": "python3"
  },
  "language_info": {
   "codemirror_mode": {
    "name": "ipython",
    "version": 3
   },
   "file_extension": ".py",
   "mimetype": "text/x-python",
   "name": "python",
   "nbconvert_exporter": "python",
   "pygments_lexer": "ipython3",
   "version": "3.6.5"
  }
 },
 "nbformat": 4,
 "nbformat_minor": 2
}
